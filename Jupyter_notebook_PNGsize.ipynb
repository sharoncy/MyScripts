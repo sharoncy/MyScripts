{
 "cells": [
  {
   "cell_type": "code",
   "execution_count": 21,
   "id": "fa1dbf4c",
   "metadata": {},
   "outputs": [],
   "source": [
    "from PIL import Image\n",
    "import os\n",
    "from os import listdir"
   ]
  },
  {
   "cell_type": "code",
   "execution_count": 29,
   "id": "97e596d9",
   "metadata": {},
   "outputs": [
    {
     "name": "stdout",
     "output_type": "stream",
     "text": [
      "5039 6172\n",
      "4699 5209\n",
      "9285 6568\n",
      "10305 6625\n",
      "10928 7077\n",
      "11381 7870\n",
      "11268 7700\n",
      "11209 7811\n",
      "11818 7963\n",
      "12331 8142\n",
      "12520 8331\n",
      "12897 8472\n",
      "12661 8896\n",
      "12850 8990\n",
      "8190 5620\n",
      "13866 10125\n",
      "14165 9526\n",
      "14291 9794\n",
      "14424 9594\n",
      "15170 10385\n",
      "15442 10113\n",
      "15116 10711\n",
      "15061 10059\n",
      "15686 10365\n",
      "16185 10310\n",
      "16462 9977\n",
      "15963 10531\n",
      "15813 9781\n",
      "15079 9944\n",
      "14753 10270\n",
      "15894 8884\n",
      "15028 8294\n",
      "15274 8130\n",
      "12565 8048\n",
      "4434 4599\n"
     ]
    }
   ],
   "source": [
    "folder_dir = \"Y:/HBP-Voucher_Rat-corticome/SubProject1_Orbitofrontal/transfer_229393_files_929575b8/F1-PHA-L/F1-PHA-L/tiled2/F1-PHA-L_resize0.5/\"\n",
    "for img in os.listdir(folder_dir):\n",
    "    if (img.endswith(\".png\")):\n",
    "        image = Image.open(folder_dir + \"/\" + img);\n",
    "        width, height = image.size\n",
    "        print(width, height)\n",
    "        \n",
    "\n",
    "#image = Image.open(\"Y:/HBP-Voucher_Rat-corticome/SubProject1_Orbitofrontal/transfer_229393_files_929575b8/F1-PHA-L/F1-PHA-L/tiled2/F1-PHA-L_resize0.5/F1_PHAL_s001.png\")\n",
    "#width, height = image.size\n",
    "#print(width, height)"
   ]
  },
  {
   "cell_type": "code",
   "execution_count": null,
   "id": "92fdca96",
   "metadata": {},
   "outputs": [],
   "source": []
  }
 ],
 "metadata": {
  "kernelspec": {
   "display_name": "Python 3",
   "language": "python",
   "name": "python3"
  },
  "language_info": {
   "codemirror_mode": {
    "name": "ipython",
    "version": 3
   },
   "file_extension": ".py",
   "mimetype": "text/x-python",
   "name": "python",
   "nbconvert_exporter": "python",
   "pygments_lexer": "ipython3",
   "version": "3.8.8"
  }
 },
 "nbformat": 4,
 "nbformat_minor": 5
}
