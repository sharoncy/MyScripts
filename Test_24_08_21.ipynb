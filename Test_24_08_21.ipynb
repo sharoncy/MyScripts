{
 "cells": [
  {
   "cell_type": "markdown",
   "id": "5a0e28b7",
   "metadata": {},
   "source": [
    "# Sharon's jupyter notebook!\n",
    "\n",
    "This is an example Jupyter notebook created on 24.08.21 based on a youtube tutorial.\n",
    "\n",
    "For each cell \"blue\" indicates command mode; \"green\" is edit mode. \n",
    "\n",
    "To get a markdown cell go to *cell* - *cell type*.  \n",
    "\n",
    "**Useful shortcuts**\n",
    "\n",
    "ctrl/enter - Execute code in cell, this also applies to markdown.\n",
    "\n",
    "shift/enter - run and get new cell\n",
    "\n",
    "\n"
   ]
  },
  {
   "cell_type": "code",
   "execution_count": 3,
   "id": "1ee5002e",
   "metadata": {},
   "outputs": [
    {
     "name": "stdout",
     "output_type": "stream",
     "text": [
      "hello world\n"
     ]
    }
   ],
   "source": [
    "print(\"hello world\")"
   ]
  },
  {
   "cell_type": "markdown",
   "id": "8de139ea",
   "metadata": {},
   "source": [
    "It is also possible to run bash commands in a jupyter notebook. To do this add ! before the code. "
   ]
  },
  {
   "cell_type": "markdown",
   "id": "3bc5b709",
   "metadata": {},
   "source": [
    "# Use bash commands \n",
    "\n",
    "by using the %list . List all the line magics."
   ]
  },
  {
   "cell_type": "code",
   "execution_count": 4,
   "id": "1543eef2",
   "metadata": {},
   "outputs": [
    {
     "data": {
      "application/json": {
       "cell": {
        "!": "OSMagics",
        "HTML": "Other",
        "SVG": "Other",
        "bash": "Other",
        "capture": "ExecutionMagics",
        "cmd": "Other",
        "debug": "ExecutionMagics",
        "file": "Other",
        "html": "DisplayMagics",
        "javascript": "DisplayMagics",
        "js": "DisplayMagics",
        "latex": "DisplayMagics",
        "markdown": "DisplayMagics",
        "perl": "Other",
        "prun": "ExecutionMagics",
        "pypy": "Other",
        "python": "Other",
        "python2": "Other",
        "python3": "Other",
        "ruby": "Other",
        "script": "ScriptMagics",
        "sh": "Other",
        "svg": "DisplayMagics",
        "sx": "OSMagics",
        "system": "OSMagics",
        "time": "ExecutionMagics",
        "timeit": "ExecutionMagics",
        "writefile": "OSMagics"
       },
       "line": {
        "alias": "OSMagics",
        "alias_magic": "BasicMagics",
        "autoawait": "AsyncMagics",
        "autocall": "AutoMagics",
        "automagic": "AutoMagics",
        "autosave": "KernelMagics",
        "bookmark": "OSMagics",
        "cd": "OSMagics",
        "clear": "KernelMagics",
        "cls": "KernelMagics",
        "colors": "BasicMagics",
        "conda": "PackagingMagics",
        "config": "ConfigMagics",
        "connect_info": "KernelMagics",
        "copy": "Other",
        "ddir": "Other",
        "debug": "ExecutionMagics",
        "dhist": "OSMagics",
        "dirs": "OSMagics",
        "doctest_mode": "BasicMagics",
        "echo": "Other",
        "ed": "Other",
        "edit": "KernelMagics",
        "env": "OSMagics",
        "gui": "BasicMagics",
        "hist": "Other",
        "history": "HistoryMagics",
        "killbgscripts": "ScriptMagics",
        "ldir": "Other",
        "less": "KernelMagics",
        "load": "CodeMagics",
        "load_ext": "ExtensionMagics",
        "loadpy": "CodeMagics",
        "logoff": "LoggingMagics",
        "logon": "LoggingMagics",
        "logstart": "LoggingMagics",
        "logstate": "LoggingMagics",
        "logstop": "LoggingMagics",
        "ls": "Other",
        "lsmagic": "BasicMagics",
        "macro": "ExecutionMagics",
        "magic": "BasicMagics",
        "matplotlib": "PylabMagics",
        "mkdir": "Other",
        "more": "KernelMagics",
        "notebook": "BasicMagics",
        "page": "BasicMagics",
        "pastebin": "CodeMagics",
        "pdb": "ExecutionMagics",
        "pdef": "NamespaceMagics",
        "pdoc": "NamespaceMagics",
        "pfile": "NamespaceMagics",
        "pinfo": "NamespaceMagics",
        "pinfo2": "NamespaceMagics",
        "pip": "PackagingMagics",
        "popd": "OSMagics",
        "pprint": "BasicMagics",
        "precision": "BasicMagics",
        "prun": "ExecutionMagics",
        "psearch": "NamespaceMagics",
        "psource": "NamespaceMagics",
        "pushd": "OSMagics",
        "pwd": "OSMagics",
        "pycat": "OSMagics",
        "pylab": "PylabMagics",
        "qtconsole": "KernelMagics",
        "quickref": "BasicMagics",
        "recall": "HistoryMagics",
        "rehashx": "OSMagics",
        "reload_ext": "ExtensionMagics",
        "ren": "Other",
        "rep": "Other",
        "rerun": "HistoryMagics",
        "reset": "NamespaceMagics",
        "reset_selective": "NamespaceMagics",
        "rmdir": "Other",
        "run": "ExecutionMagics",
        "save": "CodeMagics",
        "sc": "OSMagics",
        "set_env": "OSMagics",
        "store": "StoreMagics",
        "sx": "OSMagics",
        "system": "OSMagics",
        "tb": "ExecutionMagics",
        "time": "ExecutionMagics",
        "timeit": "ExecutionMagics",
        "unalias": "OSMagics",
        "unload_ext": "ExtensionMagics",
        "who": "NamespaceMagics",
        "who_ls": "NamespaceMagics",
        "whos": "NamespaceMagics",
        "xdel": "NamespaceMagics",
        "xmode": "BasicMagics"
       }
      },
      "text/plain": [
       "Available line magics:\n",
       "%alias  %alias_magic  %autoawait  %autocall  %automagic  %autosave  %bookmark  %cd  %clear  %cls  %colors  %conda  %config  %connect_info  %copy  %ddir  %debug  %dhist  %dirs  %doctest_mode  %echo  %ed  %edit  %env  %gui  %hist  %history  %killbgscripts  %ldir  %less  %load  %load_ext  %loadpy  %logoff  %logon  %logstart  %logstate  %logstop  %ls  %lsmagic  %macro  %magic  %matplotlib  %mkdir  %more  %notebook  %page  %pastebin  %pdb  %pdef  %pdoc  %pfile  %pinfo  %pinfo2  %pip  %popd  %pprint  %precision  %prun  %psearch  %psource  %pushd  %pwd  %pycat  %pylab  %qtconsole  %quickref  %recall  %rehashx  %reload_ext  %ren  %rep  %rerun  %reset  %reset_selective  %rmdir  %run  %save  %sc  %set_env  %store  %sx  %system  %tb  %time  %timeit  %unalias  %unload_ext  %who  %who_ls  %whos  %xdel  %xmode\n",
       "\n",
       "Available cell magics:\n",
       "%%!  %%HTML  %%SVG  %%bash  %%capture  %%cmd  %%debug  %%file  %%html  %%javascript  %%js  %%latex  %%markdown  %%perl  %%prun  %%pypy  %%python  %%python2  %%python3  %%ruby  %%script  %%sh  %%svg  %%sx  %%system  %%time  %%timeit  %%writefile\n",
       "\n",
       "Automagic is ON, % prefix IS NOT needed for line magics."
      ]
     },
     "execution_count": 4,
     "metadata": {},
     "output_type": "execute_result"
    }
   ],
   "source": [
    "%lsmagic"
   ]
  },
  {
   "cell_type": "markdown",
   "id": "812e6c2d",
   "metadata": {},
   "source": [
    "Use bash code to print working directory"
   ]
  },
  {
   "cell_type": "code",
   "execution_count": 5,
   "id": "1900d123",
   "metadata": {},
   "outputs": [
    {
     "data": {
      "text/plain": [
       "'C:\\\\Users\\\\sharoncy\\\\jupyter_notebooks_v2'"
      ]
     },
     "execution_count": 5,
     "metadata": {},
     "output_type": "execute_result"
    }
   ],
   "source": [
    "%pwd"
   ]
  },
  {
   "cell_type": "markdown",
   "id": "7de7b930",
   "metadata": {},
   "source": [
    "# Visualise plots\n",
    "\n",
    "Make it possible to visualise graphs in the jupyter notebook with python: this command is necessary.\n",
    "\n",
    "\n",
    "\n"
   ]
  },
  {
   "cell_type": "code",
   "execution_count": 6,
   "id": "974b3ca5",
   "metadata": {},
   "outputs": [],
   "source": [
    "%matplotlib inline"
   ]
  },
  {
   "cell_type": "code",
   "execution_count": 7,
   "id": "733d4b60",
   "metadata": {},
   "outputs": [],
   "source": [
    "import numpy as np\n",
    "import matplotlib.pyplot as plt\n",
    "\n",
    "\n",
    "def koch_snowflake(order, scale=10):\n",
    "    \"\"\"\n",
    "    Return two lists x, y of point coordinates of the Koch snowflake.\n",
    "\n",
    "    Parameters\n",
    "    ----------\n",
    "    order : int\n",
    "        The recursion depth.\n",
    "    scale : float\n",
    "        The extent of the snowflake (edge length of the base triangle).\n",
    "    \"\"\"\n",
    "    def _koch_snowflake_complex(order):\n",
    "        if order == 0:\n",
    "            # initial triangle\n",
    "            angles = np.array([0, 120, 240]) + 90\n",
    "            return scale / np.sqrt(3) * np.exp(np.deg2rad(angles) * 1j)\n",
    "        else:\n",
    "            ZR = 0.5 - 0.5j * np.sqrt(3) / 3\n",
    "\n",
    "            p1 = _koch_snowflake_complex(order - 1)  # start points\n",
    "            p2 = np.roll(p1, shift=-1)  # end points\n",
    "            dp = p2 - p1  # connection vectors\n",
    "\n",
    "            new_points = np.empty(len(p1) * 4, dtype=np.complex128)\n",
    "            new_points[::4] = p1\n",
    "            new_points[1::4] = p1 + dp / 3\n",
    "            new_points[2::4] = p1 + dp * ZR\n",
    "            new_points[3::4] = p1 + dp / 3 * 2\n",
    "            return new_points\n",
    "\n",
    "    points = _koch_snowflake_complex(order)\n",
    "    x, y = points.real, points.imag\n",
    "    return x, y"
   ]
  },
  {
   "cell_type": "markdown",
   "id": "76dbf36c",
   "metadata": {},
   "source": [
    "To alter snowflake colour enter the hex colour code as shown: plt.fill(x, y, \"hex code\")"
   ]
  },
  {
   "cell_type": "code",
   "execution_count": 8,
   "id": "f6c85c21",
   "metadata": {
    "scrolled": true
   },
   "outputs": [
    {
     "data": {
      "image/png": "[encoded data removed]",
      "text/plain": [
       "<Figure size 720x720 with 1 Axes>"
      ]
     },
     "metadata": {
      "needs_background": "light"
     },
     "output_type": "display_data"
    }
   ],
   "source": [
    "x, y = koch_snowflake(order=8)\n",
    "\n",
    "plt.figure(figsize=(10,10))\n",
    "plt.axis('equal')\n",
    "plt.fill(x, y, \"#ff0008\")\n",
    "plt.show()"
   ]
  },
  {
   "cell_type": "markdown",
   "id": "251c5637",
   "metadata": {},
   "source": [
    "This allows users to explore their data directly. "
   ]
  },
  {
   "cell_type": "markdown",
   "id": "ae8c464d",
   "metadata": {},
   "source": [
    "# Embed video with iframe\n",
    "\n",
    "To get the iframe go to the youtube video, click share and embed. \n",
    "\n",
    "The %%HTML command may be used to render any kind of HTML code, links, etc."
   ]
  },
  {
   "cell_type": "code",
   "execution_count": 9,
   "id": "67b29e1e",
   "metadata": {
    "scrolled": true
   },
   "outputs": [
    {
     "data": {
      "text/html": [
       "<iframe width=\"560\" height=\"315\" src=\"https://www.youtube.com/embed/yPkAbSfla_c\" title=\"YouTube video player\" frameborder=\"0\" allow=\"accelerometer; autoplay; clipboard-write; encrypted-media; gyroscope; picture-in-picture\" allowfullscreen></iframe>\n"
      ],
      "text/plain": [
       "<IPython.core.display.HTML object>"
      ]
     },
     "metadata": {},
     "output_type": "display_data"
    }
   ],
   "source": [
    "%%html\n",
    "<iframe width=\"560\" height=\"315\" src=\"https://www.youtube.com/embed/yPkAbSfla_c\" title=\"YouTube video player\" frameborder=\"0\" allow=\"accelerometer; autoplay; clipboard-write; encrypted-media; gyroscope; picture-in-picture\" allowfullscreen></iframe>"
   ]
  },
  {
   "cell_type": "markdown",
   "id": "3a1cd5df",
   "metadata": {},
   "source": [
    "# Visualise data"
   ]
  },
  {
   "cell_type": "code",
   "execution_count": 10,
   "id": "de8637c4",
   "metadata": {
    "scrolled": true
   },
   "outputs": [
    {
     "data": {
      "text/html": [
       "<div>\n",
       "<style scoped>\n",
       "    .dataframe tbody tr th:only-of-type {\n",
       "        vertical-align: middle;\n",
       "    }\n",
       "\n",
       "    .dataframe tbody tr th {\n",
       "        vertical-align: top;\n",
       "    }\n",
       "\n",
       "    .dataframe thead th {\n",
       "        text-align: right;\n",
       "    }\n",
       "</style>\n",
       "<table border=\"1\" class=\"dataframe\">\n",
       "  <thead>\n",
       "    <tr style=\"text-align: right;\">\n",
       "      <th></th>\n",
       "      <th>0</th>\n",
       "      <th>1</th>\n",
       "      <th>2</th>\n",
       "      <th>3</th>\n",
       "      <th>4</th>\n",
       "    </tr>\n",
       "  </thead>\n",
       "  <tbody>\n",
       "    <tr>\n",
       "      <th>0</th>\n",
       "      <td>0.529599</td>\n",
       "      <td>-0.149310</td>\n",
       "      <td>0.481754</td>\n",
       "      <td>0.727599</td>\n",
       "      <td>-0.092525</td>\n",
       "    </tr>\n",
       "    <tr>\n",
       "      <th>1</th>\n",
       "      <td>-0.325398</td>\n",
       "      <td>-0.331408</td>\n",
       "      <td>0.192102</td>\n",
       "      <td>-0.699097</td>\n",
       "      <td>0.536691</td>\n",
       "    </tr>\n",
       "    <tr>\n",
       "      <th>2</th>\n",
       "      <td>-1.548455</td>\n",
       "      <td>-0.613075</td>\n",
       "      <td>-1.095212</td>\n",
       "      <td>0.740496</td>\n",
       "      <td>1.773301</td>\n",
       "    </tr>\n",
       "    <tr>\n",
       "      <th>3</th>\n",
       "      <td>0.784583</td>\n",
       "      <td>0.054504</td>\n",
       "      <td>0.125768</td>\n",
       "      <td>1.329981</td>\n",
       "      <td>-0.388167</td>\n",
       "    </tr>\n",
       "    <tr>\n",
       "      <th>4</th>\n",
       "      <td>0.524853</td>\n",
       "      <td>-0.603308</td>\n",
       "      <td>-0.330825</td>\n",
       "      <td>-0.983179</td>\n",
       "      <td>-0.545040</td>\n",
       "    </tr>\n",
       "    <tr>\n",
       "      <th>5</th>\n",
       "      <td>-1.107899</td>\n",
       "      <td>1.229801</td>\n",
       "      <td>0.243421</td>\n",
       "      <td>-1.462892</td>\n",
       "      <td>-0.605602</td>\n",
       "    </tr>\n",
       "    <tr>\n",
       "      <th>6</th>\n",
       "      <td>-0.432473</td>\n",
       "      <td>0.710196</td>\n",
       "      <td>-0.371916</td>\n",
       "      <td>-1.354785</td>\n",
       "      <td>0.879674</td>\n",
       "    </tr>\n",
       "    <tr>\n",
       "      <th>7</th>\n",
       "      <td>-0.121212</td>\n",
       "      <td>-0.133339</td>\n",
       "      <td>-1.609627</td>\n",
       "      <td>0.711008</td>\n",
       "      <td>0.110804</td>\n",
       "    </tr>\n",
       "    <tr>\n",
       "      <th>8</th>\n",
       "      <td>0.421468</td>\n",
       "      <td>1.318308</td>\n",
       "      <td>-1.759701</td>\n",
       "      <td>0.242782</td>\n",
       "      <td>-0.719748</td>\n",
       "    </tr>\n",
       "    <tr>\n",
       "      <th>9</th>\n",
       "      <td>2.086144</td>\n",
       "      <td>1.394137</td>\n",
       "      <td>-0.290036</td>\n",
       "      <td>-0.046087</td>\n",
       "      <td>-0.549274</td>\n",
       "    </tr>\n",
       "  </tbody>\n",
       "</table>\n",
       "</div>"
      ],
      "text/plain": [
       "          0         1         2         3         4\n",
       "0  0.529599 -0.149310  0.481754  0.727599 -0.092525\n",
       "1 -0.325398 -0.331408  0.192102 -0.699097  0.536691\n",
       "2 -1.548455 -0.613075 -1.095212  0.740496  1.773301\n",
       "3  0.784583  0.054504  0.125768  1.329981 -0.388167\n",
       "4  0.524853 -0.603308 -0.330825 -0.983179 -0.545040\n",
       "5 -1.107899  1.229801  0.243421 -1.462892 -0.605602\n",
       "6 -0.432473  0.710196 -0.371916 -1.354785  0.879674\n",
       "7 -0.121212 -0.133339 -1.609627  0.711008  0.110804\n",
       "8  0.421468  1.318308 -1.759701  0.242782 -0.719748\n",
       "9  2.086144  1.394137 -0.290036 -0.046087 -0.549274"
      ]
     },
     "execution_count": 10,
     "metadata": {},
     "output_type": "execute_result"
    }
   ],
   "source": [
    "import pandas as pd\n",
    "import numpy as np\n",
    "\n",
    "df = pd.DataFrame(np.random.randn(10,5))\n",
    "df"
   ]
  },
  {
   "cell_type": "markdown",
   "id": "661ef375",
   "metadata": {},
   "source": [
    "# Manipulate QUINT data!\n",
    "\n",
    "Use pandas to read an xlsx file. "
   ]
  },
  {
   "cell_type": "code",
   "execution_count": 11,
   "id": "84985f51",
   "metadata": {},
   "outputs": [
    {
     "data": {
      "text/html": [
       "<div>\n",
       "<style scoped>\n",
       "    .dataframe tbody tr th:only-of-type {\n",
       "        vertical-align: middle;\n",
       "    }\n",
       "\n",
       "    .dataframe tbody tr th {\n",
       "        vertical-align: top;\n",
       "    }\n",
       "\n",
       "    .dataframe thead th {\n",
       "        text-align: right;\n",
       "    }\n",
       "</style>\n",
       "<table border=\"1\" class=\"dataframe\">\n",
       "  <thead>\n",
       "    <tr style=\"text-align: right;\">\n",
       "      <th></th>\n",
       "      <th>Region name</th>\n",
       "      <th>Region pixels</th>\n",
       "      <th>Region area</th>\n",
       "      <th>Area unit</th>\n",
       "      <th>Object count</th>\n",
       "      <th>Object pixels</th>\n",
       "      <th>Object area</th>\n",
       "      <th>Area unit.1</th>\n",
       "      <th>Load</th>\n",
       "    </tr>\n",
       "  </thead>\n",
       "  <tbody>\n",
       "    <tr>\n",
       "      <th>0</th>\n",
       "      <td>Cortex</td>\n",
       "      <td>102294890</td>\n",
       "      <td>4.091796e+08</td>\n",
       "      <td>um2</td>\n",
       "      <td>NaN</td>\n",
       "      <td>26423715</td>\n",
       "      <td>105694860</td>\n",
       "      <td>um2</td>\n",
       "      <td>0.258309</td>\n",
       "    </tr>\n",
       "    <tr>\n",
       "      <th>1</th>\n",
       "      <td>Fibretracts</td>\n",
       "      <td>25976118</td>\n",
       "      <td>1.039045e+08</td>\n",
       "      <td>um2</td>\n",
       "      <td>NaN</td>\n",
       "      <td>3762381</td>\n",
       "      <td>15049524</td>\n",
       "      <td>um2</td>\n",
       "      <td>0.144840</td>\n",
       "    </tr>\n",
       "    <tr>\n",
       "      <th>2</th>\n",
       "      <td>Hippo</td>\n",
       "      <td>32401265</td>\n",
       "      <td>1.296051e+08</td>\n",
       "      <td>um2</td>\n",
       "      <td>NaN</td>\n",
       "      <td>8947121</td>\n",
       "      <td>35788484</td>\n",
       "      <td>um2</td>\n",
       "      <td>0.276135</td>\n",
       "    </tr>\n",
       "    <tr>\n",
       "      <th>3</th>\n",
       "      <td>Olfactory</td>\n",
       "      <td>21431770</td>\n",
       "      <td>8.572708e+07</td>\n",
       "      <td>um2</td>\n",
       "      <td>NaN</td>\n",
       "      <td>5362918</td>\n",
       "      <td>21451672</td>\n",
       "      <td>um2</td>\n",
       "      <td>0.250232</td>\n",
       "    </tr>\n",
       "    <tr>\n",
       "      <th>4</th>\n",
       "      <td>Hypothalamus</td>\n",
       "      <td>16609961</td>\n",
       "      <td>6.643984e+07</td>\n",
       "      <td>um2</td>\n",
       "      <td>NaN</td>\n",
       "      <td>1424782</td>\n",
       "      <td>5699128</td>\n",
       "      <td>um2</td>\n",
       "      <td>0.085779</td>\n",
       "    </tr>\n",
       "    <tr>\n",
       "      <th>5</th>\n",
       "      <td>Striatum_Pallidum</td>\n",
       "      <td>44823950</td>\n",
       "      <td>1.792958e+08</td>\n",
       "      <td>um2</td>\n",
       "      <td>NaN</td>\n",
       "      <td>11178989</td>\n",
       "      <td>44715956</td>\n",
       "      <td>um2</td>\n",
       "      <td>0.249398</td>\n",
       "    </tr>\n",
       "    <tr>\n",
       "      <th>6</th>\n",
       "      <td>Mid_Hind_Medulla</td>\n",
       "      <td>37732013</td>\n",
       "      <td>1.509281e+08</td>\n",
       "      <td>um2</td>\n",
       "      <td>NaN</td>\n",
       "      <td>6732888</td>\n",
       "      <td>26931552</td>\n",
       "      <td>um2</td>\n",
       "      <td>0.178440</td>\n",
       "    </tr>\n",
       "    <tr>\n",
       "      <th>7</th>\n",
       "      <td>Thalamus</td>\n",
       "      <td>18593031</td>\n",
       "      <td>7.437212e+07</td>\n",
       "      <td>um2</td>\n",
       "      <td>NaN</td>\n",
       "      <td>4072950</td>\n",
       "      <td>16291800</td>\n",
       "      <td>um2</td>\n",
       "      <td>0.219058</td>\n",
       "    </tr>\n",
       "    <tr>\n",
       "      <th>8</th>\n",
       "      <td>Cerebellum</td>\n",
       "      <td>123228</td>\n",
       "      <td>4.929118e+05</td>\n",
       "      <td>um2</td>\n",
       "      <td>NaN</td>\n",
       "      <td>14133</td>\n",
       "      <td>56532</td>\n",
       "      <td>um2</td>\n",
       "      <td>0.114690</td>\n",
       "    </tr>\n",
       "    <tr>\n",
       "      <th>9</th>\n",
       "      <td>VentricularSystem</td>\n",
       "      <td>2971054</td>\n",
       "      <td>1.188421e+07</td>\n",
       "      <td>um2</td>\n",
       "      <td>NaN</td>\n",
       "      <td>695424</td>\n",
       "      <td>2781696</td>\n",
       "      <td>um2</td>\n",
       "      <td>0.234066</td>\n",
       "    </tr>\n",
       "  </tbody>\n",
       "</table>\n",
       "</div>"
      ],
      "text/plain": [
       "         Region name  Region pixels   Region area Area unit  Object count  \\\n",
       "0             Cortex      102294890  4.091796e+08       um2           NaN   \n",
       "1        Fibretracts       25976118  1.039045e+08       um2           NaN   \n",
       "2              Hippo       32401265  1.296051e+08       um2           NaN   \n",
       "3          Olfactory       21431770  8.572708e+07       um2           NaN   \n",
       "4       Hypothalamus       16609961  6.643984e+07       um2           NaN   \n",
       "5  Striatum_Pallidum       44823950  1.792958e+08       um2           NaN   \n",
       "6   Mid_Hind_Medulla       37732013  1.509281e+08       um2           NaN   \n",
       "7           Thalamus       18593031  7.437212e+07       um2           NaN   \n",
       "8         Cerebellum         123228  4.929118e+05       um2           NaN   \n",
       "9  VentricularSystem        2971054  1.188421e+07       um2           NaN   \n",
       "\n",
       "   Object pixels  Object area Area unit.1      Load  \n",
       "0       26423715    105694860         um2  0.258309  \n",
       "1        3762381     15049524         um2  0.144840  \n",
       "2        8947121     35788484         um2  0.276135  \n",
       "3        5362918     21451672         um2  0.250232  \n",
       "4        1424782      5699128         um2  0.085779  \n",
       "5       11178989     44715956         um2  0.249398  \n",
       "6        6732888     26931552         um2  0.178440  \n",
       "7        4072950     16291800         um2  0.219058  \n",
       "8          14133        56532         um2  0.114690  \n",
       "9         695424      2781696         um2  0.234066  "
      ]
     },
     "execution_count": 11,
     "metadata": {},
     "output_type": "execute_result"
    }
   ],
   "source": [
    "import pandas as pd\n",
    "\n",
    "workbook = pd.read_excel('SY_Nutilv066_CustomRegions_All.xlsx')\n",
    "workbook\n"
   ]
  },
  {
   "cell_type": "code",
   "execution_count": 12,
   "id": "766483a4",
   "metadata": {},
   "outputs": [
    {
     "data": {
      "image/png": "[encoded data removed]",
      "text/plain": [
       "<Figure size 432x288 with 1 Axes>"
      ]
     },
     "metadata": {
      "needs_background": "light"
     },
     "output_type": "display_data"
    }
   ],
   "source": [
    "import matplotlib.pyplot as plt\n",
    "\n",
    "plt.plot(workbook['Load'])\n",
    "workbook.head()\n",
    "plt.show()\n"
   ]
  },
  {
   "cell_type": "markdown",
   "id": "d7e7e23f",
   "metadata": {},
   "source": [
    "# Plotting categorical variables\n",
    "\n",
    "More information on seaborn themes are found here https://www.codecademy.com/articles/seaborn-design-i"
   ]
  },
  {
   "cell_type": "code",
   "execution_count": 65,
   "id": "e4d03474",
   "metadata": {},
   "outputs": [
    {
     "data": {
      "image/png": "[encoded data removed]",
      "text/plain": [
       "<Figure size 432x288 with 1 Axes>"
      ]
     },
     "metadata": {},
     "output_type": "display_data"
    }
   ],
   "source": [
    "import seaborn as sns\n",
    "sns.set_theme(style=\"darkgrid\", color_codes=True)\n",
    "\n",
    "import pandas as pd\n",
    "\n",
    "csv = pd.read_csv('SY_Nutilv066_CustomRegions_All.csv', sep=';')\n",
    "\n",
    "csv\n",
    "\n",
    "img = sns.barplot(x=\"Load\", y=\"Region name\", data=csv)\n",
    "plt.show(img)\n",
    "\n"
   ]
  },
  {
   "cell_type": "code",
   "execution_count": 69,
   "id": "33249f87",
   "metadata": {},
   "outputs": [
    {
     "data": {
      "text/plain": [
       "<Figure size 432x288 with 0 Axes>"
      ]
     },
     "metadata": {},
     "output_type": "display_data"
    }
   ],
   "source": [
    "plt.savefig(\"ExampleLoadFig.png\")"
   ]
  }
 ],
 "metadata": {
  "kernelspec": {
   "display_name": "Python 3",
   "language": "python",
   "name": "python3"
  },
  "language_info": {
   "codemirror_mode": {
    "name": "ipython",
    "version": 3
   },
   "file_extension": ".py",
   "mimetype": "text/x-python",
   "name": "python",
   "nbconvert_exporter": "python",
   "pygments_lexer": "ipython3",
   "version": "3.8.8"
  }
 },
 "nbformat": 4,
 "nbformat_minor": 5
}
