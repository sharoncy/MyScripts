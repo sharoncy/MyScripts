{
 "cells": [
  {
   "cell_type": "markdown",
   "id": "5a0e28b7",
   "metadata": {},
   "source": [
    "# Sharon's jupyter notebook!\n",
    "\n",
    "This is an example Jupyter notebook created on 24.08.21 based on a youtube tutorial.\n",
    "\n",
    "For each cell \"blue\" indicates command mode; \"green\" is edit mode. \n",
    "\n",
    "To get a markdown cell go to *cell* - *cell type*.  \n",
    "\n",
    "**Useful shortcuts**\n",
    "\n",
    "ctrl/enter - Execute code in cell, this also applies to markdown.\n",
    "\n",
    "shift/enter - run and get new cell\n",
    "\n",
    "\n"
   ]
  },
  {
   "cell_type": "code",
   "execution_count": 3,
   "id": "1ee5002e",
   "metadata": {},
   "outputs": [
    {
     "name": "stdout",
     "output_type": "stream",
     "text": [
      "hello world\n"
     ]
    }
   ],
   "source": [
    "print(\"hello world\")"
   ]
  },
  {
   "cell_type": "markdown",
   "id": "8de139ea",
   "metadata": {},
   "source": [
    "It is also possible to run bash commands in a jupyter notebook. To do this add ! before the code. "
   ]
  },
  {
   "cell_type": "markdown",
   "id": "3bc5b709",
   "metadata": {},
   "source": [
    "# Use bash commands \n",
    "\n",
    "by using the %list . List all the line magics."
   ]
  },
  {
   "cell_type": "code",
   "execution_count": 4,
   "id": "1543eef2",
   "metadata": {},
   "outputs": [
    {
     "data": {
      "application/json": {
       "cell": {
        "!": "OSMagics",
        "HTML": "Other",
        "SVG": "Other",
        "bash": "Other",
        "capture": "ExecutionMagics",
        "cmd": "Other",
        "debug": "ExecutionMagics",
        "file": "Other",
        "html": "DisplayMagics",
        "javascript": "DisplayMagics",
        "js": "DisplayMagics",
        "latex": "DisplayMagics",
        "markdown": "DisplayMagics",
        "perl": "Other",
        "prun": "ExecutionMagics",
        "pypy": "Other",
        "python": "Other",
        "python2": "Other",
        "python3": "Other",
        "ruby": "Other",
        "script": "ScriptMagics",
        "sh": "Other",
        "svg": "DisplayMagics",
        "sx": "OSMagics",
        "system": "OSMagics",
        "time": "ExecutionMagics",
        "timeit": "ExecutionMagics",
        "writefile": "OSMagics"
       },
       "line": {
        "alias": "OSMagics",
        "alias_magic": "BasicMagics",
        "autoawait": "AsyncMagics",
        "autocall": "AutoMagics",
        "automagic": "AutoMagics",
        "autosave": "KernelMagics",
        "bookmark": "OSMagics",
        "cd": "OSMagics",
        "clear": "KernelMagics",
        "cls": "KernelMagics",
        "colors": "BasicMagics",
        "conda": "PackagingMagics",
        "config": "ConfigMagics",
        "connect_info": "KernelMagics",
        "copy": "Other",
        "ddir": "Other",
        "debug": "ExecutionMagics",
        "dhist": "OSMagics",
        "dirs": "OSMagics",
        "doctest_mode": "BasicMagics",
        "echo": "Other",
        "ed": "Other",
        "edit": "KernelMagics",
        "env": "OSMagics",
        "gui": "BasicMagics",
        "hist": "Other",
        "history": "HistoryMagics",
        "killbgscripts": "ScriptMagics",
        "ldir": "Other",
        "less": "KernelMagics",
        "load": "CodeMagics",
        "load_ext": "ExtensionMagics",
        "loadpy": "CodeMagics",
        "logoff": "LoggingMagics",
        "logon": "LoggingMagics",
        "logstart": "LoggingMagics",
        "logstate": "LoggingMagics",
        "logstop": "LoggingMagics",
        "ls": "Other",
        "lsmagic": "BasicMagics",
        "macro": "ExecutionMagics",
        "magic": "BasicMagics",
        "matplotlib": "PylabMagics",
        "mkdir": "Other",
        "more": "KernelMagics",
        "notebook": "BasicMagics",
        "page": "BasicMagics",
        "pastebin": "CodeMagics",
        "pdb": "ExecutionMagics",
        "pdef": "NamespaceMagics",
        "pdoc": "NamespaceMagics",
        "pfile": "NamespaceMagics",
        "pinfo": "NamespaceMagics",
        "pinfo2": "NamespaceMagics",
        "pip": "PackagingMagics",
        "popd": "OSMagics",
        "pprint": "BasicMagics",
        "precision": "BasicMagics",
        "prun": "ExecutionMagics",
        "psearch": "NamespaceMagics",
        "psource": "NamespaceMagics",
        "pushd": "OSMagics",
        "pwd": "OSMagics",
        "pycat": "OSMagics",
        "pylab": "PylabMagics",
        "qtconsole": "KernelMagics",
        "quickref": "BasicMagics",
        "recall": "HistoryMagics",
        "rehashx": "OSMagics",
        "reload_ext": "ExtensionMagics",
        "ren": "Other",
        "rep": "Other",
        "rerun": "HistoryMagics",
        "reset": "NamespaceMagics",
        "reset_selective": "NamespaceMagics",
        "rmdir": "Other",
        "run": "ExecutionMagics",
        "save": "CodeMagics",
        "sc": "OSMagics",
        "set_env": "OSMagics",
        "store": "StoreMagics",
        "sx": "OSMagics",
        "system": "OSMagics",
        "tb": "ExecutionMagics",
        "time": "ExecutionMagics",
        "timeit": "ExecutionMagics",
        "unalias": "OSMagics",
        "unload_ext": "ExtensionMagics",
        "who": "NamespaceMagics",
        "who_ls": "NamespaceMagics",
        "whos": "NamespaceMagics",
        "xdel": "NamespaceMagics",
        "xmode": "BasicMagics"
       }
      },
      "text/plain": [
       "Available line magics:\n",
       "%alias  %alias_magic  %autoawait  %autocall  %automagic  %autosave  %bookmark  %cd  %clear  %cls  %colors  %conda  %config  %connect_info  %copy  %ddir  %debug  %dhist  %dirs  %doctest_mode  %echo  %ed  %edit  %env  %gui  %hist  %history  %killbgscripts  %ldir  %less  %load  %load_ext  %loadpy  %logoff  %logon  %logstart  %logstate  %logstop  %ls  %lsmagic  %macro  %magic  %matplotlib  %mkdir  %more  %notebook  %page  %pastebin  %pdb  %pdef  %pdoc  %pfile  %pinfo  %pinfo2  %pip  %popd  %pprint  %precision  %prun  %psearch  %psource  %pushd  %pwd  %pycat  %pylab  %qtconsole  %quickref  %recall  %rehashx  %reload_ext  %ren  %rep  %rerun  %reset  %reset_selective  %rmdir  %run  %save  %sc  %set_env  %store  %sx  %system  %tb  %time  %timeit  %unalias  %unload_ext  %who  %who_ls  %whos  %xdel  %xmode\n",
       "\n",
       "Available cell magics:\n",
       "%%!  %%HTML  %%SVG  %%bash  %%capture  %%cmd  %%debug  %%file  %%html  %%javascript  %%js  %%latex  %%markdown  %%perl  %%prun  %%pypy  %%python  %%python2  %%python3  %%ruby  %%script  %%sh  %%svg  %%sx  %%system  %%time  %%timeit  %%writefile\n",
       "\n",
       "Automagic is ON, % prefix IS NOT needed for line magics."
      ]
     },
     "execution_count": 4,
     "metadata": {},
     "output_type": "execute_result"
    }
   ],
   "source": [
    "%lsmagic"
   ]
  },
  {
   "cell_type": "markdown",
   "id": "812e6c2d",
   "metadata": {},
   "source": [
    "Use bash code to print working directory"
   ]
  },
  {
   "cell_type": "code",
   "execution_count": 5,
   "id": "1900d123",
   "metadata": {},
   "outputs": [
    {
     "data": {
      "text/plain": [
       "'C:\\\\Users\\\\sharoncy\\\\Documents\\\\GitHub\\\\MyScripts'"
      ]
     },
     "execution_count": 5,
     "metadata": {},
     "output_type": "execute_result"
    }
   ],
   "source": [
    "%pwd"
   ]
  },
  {
   "cell_type": "markdown",
   "id": "7de7b930",
   "metadata": {},
   "source": [
    "# Visualise plots\n",
    "\n",
    "Make it possible to visualise graphs in the jupyter notebook with python: this command is necessary.\n",
    "\n",
    "\n",
    "\n"
   ]
  },
  {
   "cell_type": "code",
   "execution_count": 6,
   "id": "974b3ca5",
   "metadata": {},
   "outputs": [],
   "source": [
    "%matplotlib inline"
   ]
  },
  {
   "cell_type": "code",
   "execution_count": 7,
   "id": "733d4b60",
   "metadata": {},
   "outputs": [],
   "source": [
    "import numpy as np\n",
    "import matplotlib.pyplot as plt\n",
    "\n",
    "\n",
    "def koch_snowflake(order, scale=10):\n",
    "    \"\"\"\n",
    "    Return two lists x, y of point coordinates of the Koch snowflake.\n",
    "\n",
    "    Parameters\n",
    "    ----------\n",
    "    order : int\n",
    "        The recursion depth.\n",
    "    scale : float\n",
    "        The extent of the snowflake (edge length of the base triangle).\n",
    "    \"\"\"\n",
    "    def _koch_snowflake_complex(order):\n",
    "        if order == 0:\n",
    "            # initial triangle\n",
    "            angles = np.array([0, 120, 240]) + 90\n",
    "            return scale / np.sqrt(3) * np.exp(np.deg2rad(angles) * 1j)\n",
    "        else:\n",
    "            ZR = 0.5 - 0.5j * np.sqrt(3) / 3\n",
    "\n",
    "            p1 = _koch_snowflake_complex(order - 1)  # start points\n",
    "            p2 = np.roll(p1, shift=-1)  # end points\n",
    "            dp = p2 - p1  # connection vectors\n",
    "\n",
    "            new_points = np.empty(len(p1) * 4, dtype=np.complex128)\n",
    "            new_points[::4] = p1\n",
    "            new_points[1::4] = p1 + dp / 3\n",
    "            new_points[2::4] = p1 + dp * ZR\n",
    "            new_points[3::4] = p1 + dp / 3 * 2\n",
    "            return new_points\n",
    "\n",
    "    points = _koch_snowflake_complex(order)\n",
    "    x, y = points.real, points.imag\n",
    "    return x, y"
   ]
  },
  {
   "cell_type": "markdown",
   "id": "76dbf36c",
   "metadata": {},
   "source": [
    "To alter snowflake colour enter the hex colour code as shown: plt.fill(x, y, \"hex code\")"
   ]
  },
  {
   "cell_type": "code",
   "execution_count": 8,
   "id": "f6c85c21",
   "metadata": {
    "scrolled": true
   },
   "outputs": [
    {
     "data": {
      "image/png": "[encoded data removed]",
      "text/plain": [
       "<Figure size 720x720 with 1 Axes>"
      ]
     },
     "metadata": {
      "needs_background": "light"
     },
     "output_type": "display_data"
    }
   ],
   "source": [
    "x, y = koch_snowflake(order=8)\n",
    "\n",
    "plt.figure(figsize=(10,10))\n",
    "plt.axis('equal')\n",
    "plt.fill(x, y, \"#ff0008\")\n",
    "plt.show()"
   ]
  },
  {
   "cell_type": "markdown",
   "id": "251c5637",
   "metadata": {},
   "source": [
    "This allows users to explore their data directly. "
   ]
  },
  {
   "cell_type": "markdown",
   "id": "ae8c464d",
   "metadata": {},
   "source": [
    "# Embed video with iframe\n",
    "\n",
    "To get the iframe go to the youtube video, click share and embed. \n",
    "\n",
    "The %%HTML command may be used to render any kind of HTML code, links, etc."
   ]
  },
  {
   "cell_type": "code",
   "execution_count": 9,
   "id": "67b29e1e",
   "metadata": {
    "scrolled": true
   },
   "outputs": [
    {
     "data": {
      "text/html": [
       "<iframe width=\"560\" height=\"315\" src=\"https://www.youtube.com/embed/yPkAbSfla_c\" title=\"YouTube video player\" frameborder=\"0\" allow=\"accelerometer; autoplay; clipboard-write; encrypted-media; gyroscope; picture-in-picture\" allowfullscreen></iframe>\n"
      ],
      "text/plain": [
       "<IPython.core.display.HTML object>"
      ]
     },
     "metadata": {},
     "output_type": "display_data"
    }
   ],
   "source": [
    "%%html\n",
    "<iframe width=\"560\" height=\"315\" src=\"https://www.youtube.com/embed/yPkAbSfla_c\" title=\"YouTube video player\" frameborder=\"0\" allow=\"accelerometer; autoplay; clipboard-write; encrypted-media; gyroscope; picture-in-picture\" allowfullscreen></iframe>"
   ]
  },
  {
   "cell_type": "markdown",
   "id": "3a1cd5df",
   "metadata": {},
   "source": [
    "# Visualise data"
   ]
  },
  {
   "cell_type": "code",
   "execution_count": 10,
   "id": "de8637c4",
   "metadata": {
    "scrolled": true
   },
   "outputs": [
    {
     "data": {
      "text/html": [
       "<div>\n",
       "<style scoped>\n",
       "    .dataframe tbody tr th:only-of-type {\n",
       "        vertical-align: middle;\n",
       "    }\n",
       "\n",
       "    .dataframe tbody tr th {\n",
       "        vertical-align: top;\n",
       "    }\n",
       "\n",
       "    .dataframe thead th {\n",
       "        text-align: right;\n",
       "    }\n",
       "</style>\n",
       "<table border=\"1\" class=\"dataframe\">\n",
       "  <thead>\n",
       "    <tr style=\"text-align: right;\">\n",
       "      <th></th>\n",
       "      <th>0</th>\n",
       "      <th>1</th>\n",
       "      <th>2</th>\n",
       "      <th>3</th>\n",
       "      <th>4</th>\n",
       "    </tr>\n",
       "  </thead>\n",
       "  <tbody>\n",
       "    <tr>\n",
       "      <th>0</th>\n",
       "      <td>0.187415</td>\n",
       "      <td>0.444397</td>\n",
       "      <td>1.082223</td>\n",
       "      <td>-1.254545</td>\n",
       "      <td>-1.755115</td>\n",
       "    </tr>\n",
       "    <tr>\n",
       "      <th>1</th>\n",
       "      <td>-1.193835</td>\n",
       "      <td>0.534262</td>\n",
       "      <td>-0.647219</td>\n",
       "      <td>1.385081</td>\n",
       "      <td>0.820968</td>\n",
       "    </tr>\n",
       "    <tr>\n",
       "      <th>2</th>\n",
       "      <td>-0.738052</td>\n",
       "      <td>0.633092</td>\n",
       "      <td>-1.052312</td>\n",
       "      <td>-2.469428</td>\n",
       "      <td>-2.702042</td>\n",
       "    </tr>\n",
       "    <tr>\n",
       "      <th>3</th>\n",
       "      <td>0.171855</td>\n",
       "      <td>0.508928</td>\n",
       "      <td>0.357492</td>\n",
       "      <td>-1.306601</td>\n",
       "      <td>0.715131</td>\n",
       "    </tr>\n",
       "    <tr>\n",
       "      <th>4</th>\n",
       "      <td>-1.109750</td>\n",
       "      <td>0.335469</td>\n",
       "      <td>-0.838550</td>\n",
       "      <td>-0.454382</td>\n",
       "      <td>-1.185560</td>\n",
       "    </tr>\n",
       "    <tr>\n",
       "      <th>5</th>\n",
       "      <td>0.152622</td>\n",
       "      <td>0.264544</td>\n",
       "      <td>1.847721</td>\n",
       "      <td>-0.216275</td>\n",
       "      <td>0.550203</td>\n",
       "    </tr>\n",
       "    <tr>\n",
       "      <th>6</th>\n",
       "      <td>1.199219</td>\n",
       "      <td>-0.024397</td>\n",
       "      <td>0.070979</td>\n",
       "      <td>-2.976111</td>\n",
       "      <td>0.028562</td>\n",
       "    </tr>\n",
       "    <tr>\n",
       "      <th>7</th>\n",
       "      <td>0.241173</td>\n",
       "      <td>-0.290238</td>\n",
       "      <td>0.007586</td>\n",
       "      <td>0.002521</td>\n",
       "      <td>0.271750</td>\n",
       "    </tr>\n",
       "    <tr>\n",
       "      <th>8</th>\n",
       "      <td>-0.620196</td>\n",
       "      <td>-0.569564</td>\n",
       "      <td>-0.433747</td>\n",
       "      <td>1.880519</td>\n",
       "      <td>-0.601846</td>\n",
       "    </tr>\n",
       "    <tr>\n",
       "      <th>9</th>\n",
       "      <td>-0.851202</td>\n",
       "      <td>-0.744136</td>\n",
       "      <td>-0.331459</td>\n",
       "      <td>-0.435436</td>\n",
       "      <td>1.504022</td>\n",
       "    </tr>\n",
       "  </tbody>\n",
       "</table>\n",
       "</div>"
      ],
      "text/plain": [
       "          0         1         2         3         4\n",
       "0  0.187415  0.444397  1.082223 -1.254545 -1.755115\n",
       "1 -1.193835  0.534262 -0.647219  1.385081  0.820968\n",
       "2 -0.738052  0.633092 -1.052312 -2.469428 -2.702042\n",
       "3  0.171855  0.508928  0.357492 -1.306601  0.715131\n",
       "4 -1.109750  0.335469 -0.838550 -0.454382 -1.185560\n",
       "5  0.152622  0.264544  1.847721 -0.216275  0.550203\n",
       "6  1.199219 -0.024397  0.070979 -2.976111  0.028562\n",
       "7  0.241173 -0.290238  0.007586  0.002521  0.271750\n",
       "8 -0.620196 -0.569564 -0.433747  1.880519 -0.601846\n",
       "9 -0.851202 -0.744136 -0.331459 -0.435436  1.504022"
      ]
     },
     "execution_count": 10,
     "metadata": {},
     "output_type": "execute_result"
    }
   ],
   "source": [
    "import pandas as pd\n",
    "import numpy as np\n",
    "\n",
    "df = pd.DataFrame(np.random.randn(10,5))\n",
    "df"
   ]
  },
  {
   "cell_type": "markdown",
   "id": "661ef375",
   "metadata": {},
   "source": [
    "# Manipulate QUINT data!\n",
    "\n",
    "Use pandas to read an xlsx file. "
   ]
  },
  {
   "cell_type": "code",
   "execution_count": 1,
   "id": "84985f51",
   "metadata": {},
   "outputs": [
    {
     "data": {
      "text/html": [
       "<div>\n",
       "<style scoped>\n",
       "    .dataframe tbody tr th:only-of-type {\n",
       "        vertical-align: middle;\n",
       "    }\n",
       "\n",
       "    .dataframe tbody tr th {\n",
       "        vertical-align: top;\n",
       "    }\n",
       "\n",
       "    .dataframe thead th {\n",
       "        text-align: right;\n",
       "    }\n",
       "</style>\n",
       "<table border=\"1\" class=\"dataframe\">\n",
       "  <thead>\n",
       "    <tr style=\"text-align: right;\">\n",
       "      <th></th>\n",
       "      <th>Region name</th>\n",
       "      <th>Region pixels</th>\n",
       "      <th>Region area</th>\n",
       "      <th>Area unit</th>\n",
       "      <th>Object count</th>\n",
       "      <th>Object pixels</th>\n",
       "      <th>Object area</th>\n",
       "      <th>Area unit.1</th>\n",
       "      <th>Load</th>\n",
       "    </tr>\n",
       "  </thead>\n",
       "  <tbody>\n",
       "    <tr>\n",
       "      <th>0</th>\n",
       "      <td>Cortex</td>\n",
       "      <td>102294890</td>\n",
       "      <td>4.091796e+08</td>\n",
       "      <td>um2</td>\n",
       "      <td>NaN</td>\n",
       "      <td>26423715</td>\n",
       "      <td>105694860</td>\n",
       "      <td>um2</td>\n",
       "      <td>0.258309</td>\n",
       "    </tr>\n",
       "    <tr>\n",
       "      <th>1</th>\n",
       "      <td>Fibretracts</td>\n",
       "      <td>25976118</td>\n",
       "      <td>1.039045e+08</td>\n",
       "      <td>um2</td>\n",
       "      <td>NaN</td>\n",
       "      <td>3762381</td>\n",
       "      <td>15049524</td>\n",
       "      <td>um2</td>\n",
       "      <td>0.144840</td>\n",
       "    </tr>\n",
       "    <tr>\n",
       "      <th>2</th>\n",
       "      <td>Hippo</td>\n",
       "      <td>32401265</td>\n",
       "      <td>1.296051e+08</td>\n",
       "      <td>um2</td>\n",
       "      <td>NaN</td>\n",
       "      <td>8947121</td>\n",
       "      <td>35788484</td>\n",
       "      <td>um2</td>\n",
       "      <td>0.276135</td>\n",
       "    </tr>\n",
       "    <tr>\n",
       "      <th>3</th>\n",
       "      <td>Olfactory</td>\n",
       "      <td>21431770</td>\n",
       "      <td>8.572708e+07</td>\n",
       "      <td>um2</td>\n",
       "      <td>NaN</td>\n",
       "      <td>5362918</td>\n",
       "      <td>21451672</td>\n",
       "      <td>um2</td>\n",
       "      <td>0.250232</td>\n",
       "    </tr>\n",
       "    <tr>\n",
       "      <th>4</th>\n",
       "      <td>Hypothalamus</td>\n",
       "      <td>16609961</td>\n",
       "      <td>6.643984e+07</td>\n",
       "      <td>um2</td>\n",
       "      <td>NaN</td>\n",
       "      <td>1424782</td>\n",
       "      <td>5699128</td>\n",
       "      <td>um2</td>\n",
       "      <td>0.085779</td>\n",
       "    </tr>\n",
       "    <tr>\n",
       "      <th>5</th>\n",
       "      <td>Striatum_Pallidum</td>\n",
       "      <td>44823950</td>\n",
       "      <td>1.792958e+08</td>\n",
       "      <td>um2</td>\n",
       "      <td>NaN</td>\n",
       "      <td>11178989</td>\n",
       "      <td>44715956</td>\n",
       "      <td>um2</td>\n",
       "      <td>0.249398</td>\n",
       "    </tr>\n",
       "    <tr>\n",
       "      <th>6</th>\n",
       "      <td>Mid_Hind_Medulla</td>\n",
       "      <td>37732013</td>\n",
       "      <td>1.509281e+08</td>\n",
       "      <td>um2</td>\n",
       "      <td>NaN</td>\n",
       "      <td>6732888</td>\n",
       "      <td>26931552</td>\n",
       "      <td>um2</td>\n",
       "      <td>0.178440</td>\n",
       "    </tr>\n",
       "    <tr>\n",
       "      <th>7</th>\n",
       "      <td>Thalamus</td>\n",
       "      <td>18593031</td>\n",
       "      <td>7.437212e+07</td>\n",
       "      <td>um2</td>\n",
       "      <td>NaN</td>\n",
       "      <td>4072950</td>\n",
       "      <td>16291800</td>\n",
       "      <td>um2</td>\n",
       "      <td>0.219058</td>\n",
       "    </tr>\n",
       "    <tr>\n",
       "      <th>8</th>\n",
       "      <td>Cerebellum</td>\n",
       "      <td>123228</td>\n",
       "      <td>4.929118e+05</td>\n",
       "      <td>um2</td>\n",
       "      <td>NaN</td>\n",
       "      <td>14133</td>\n",
       "      <td>56532</td>\n",
       "      <td>um2</td>\n",
       "      <td>0.114690</td>\n",
       "    </tr>\n",
       "    <tr>\n",
       "      <th>9</th>\n",
       "      <td>VentricularSystem</td>\n",
       "      <td>2971054</td>\n",
       "      <td>1.188421e+07</td>\n",
       "      <td>um2</td>\n",
       "      <td>NaN</td>\n",
       "      <td>695424</td>\n",
       "      <td>2781696</td>\n",
       "      <td>um2</td>\n",
       "      <td>0.234066</td>\n",
       "    </tr>\n",
       "  </tbody>\n",
       "</table>\n",
       "</div>"
      ],
      "text/plain": [
       "         Region name  Region pixels   Region area Area unit  Object count  \\\n",
       "0             Cortex      102294890  4.091796e+08       um2           NaN   \n",
       "1        Fibretracts       25976118  1.039045e+08       um2           NaN   \n",
       "2              Hippo       32401265  1.296051e+08       um2           NaN   \n",
       "3          Olfactory       21431770  8.572708e+07       um2           NaN   \n",
       "4       Hypothalamus       16609961  6.643984e+07       um2           NaN   \n",
       "5  Striatum_Pallidum       44823950  1.792958e+08       um2           NaN   \n",
       "6   Mid_Hind_Medulla       37732013  1.509281e+08       um2           NaN   \n",
       "7           Thalamus       18593031  7.437212e+07       um2           NaN   \n",
       "8         Cerebellum         123228  4.929118e+05       um2           NaN   \n",
       "9  VentricularSystem        2971054  1.188421e+07       um2           NaN   \n",
       "\n",
       "   Object pixels  Object area Area unit.1      Load  \n",
       "0       26423715    105694860         um2  0.258309  \n",
       "1        3762381     15049524         um2  0.144840  \n",
       "2        8947121     35788484         um2  0.276135  \n",
       "3        5362918     21451672         um2  0.250232  \n",
       "4        1424782      5699128         um2  0.085779  \n",
       "5       11178989     44715956         um2  0.249398  \n",
       "6        6732888     26931552         um2  0.178440  \n",
       "7        4072950     16291800         um2  0.219058  \n",
       "8          14133        56532         um2  0.114690  \n",
       "9         695424      2781696         um2  0.234066  "
      ]
     },
     "execution_count": 1,
     "metadata": {},
     "output_type": "execute_result"
    }
   ],
   "source": [
    "import pandas as pd\n",
    "\n",
    "workbook = pd.read_excel('SY_Nutilv066_CustomRegions_All.xlsx')\n",
    "workbook\n"
   ]
  },
  {
   "cell_type": "code",
   "execution_count": 2,
   "id": "766483a4",
   "metadata": {},
   "outputs": [
    {
     "data": {
      "image/png": "[encoded data removed]",
      "text/plain": [
       "<Figure size 432x288 with 1 Axes>"
      ]
     },
     "metadata": {
      "needs_background": "light"
     },
     "output_type": "display_data"
    }
   ],
   "source": [
    "import matplotlib.pyplot as plt\n",
    "\n",
    "plt.plot(workbook['Load'])\n",
    "workbook.head()\n",
    "plt.show()\n"
   ]
  },
  {
   "cell_type": "markdown",
   "id": "d7e7e23f",
   "metadata": {},
   "source": [
    "# Plotting categorical variables\n",
    "\n",
    "More information on seaborn themes are found here https://www.codecademy.com/articles/seaborn-design-i"
   ]
  },
  {
   "cell_type": "code",
   "execution_count": 3,
   "id": "e4d03474",
   "metadata": {},
   "outputs": [
    {
     "data": {
      "image/png": "[encoded data removed]",
      "text/plain": [
       "<Figure size 432x288 with 1 Axes>"
      ]
     },
     "metadata": {},
     "output_type": "display_data"
    }
   ],
   "source": [
    "import seaborn as sns\n",
    "sns.set_theme(style=\"darkgrid\", color_codes=True)\n",
    "\n",
    "import pandas as pd\n",
    "\n",
    "csv = pd.read_csv('SY_Nutilv066_CustomRegions_All.csv', sep=';')\n",
    "\n",
    "csv\n",
    "\n",
    "img = sns.barplot(x=\"Load\", y=\"Region name\", data=csv)\n",
    "plt.savefig(\"ExampleLoadFig.png\")\n",
    "plt.show(img)\n",
    "\n",
    "\n"
   ]
  },
  {
   "cell_type": "code",
   "execution_count": null,
   "id": "33249f87",
   "metadata": {},
   "outputs": [],
   "source": []
  }
 ],
 "metadata": {
  "kernelspec": {
   "display_name": "Python 3",
   "language": "python",
   "name": "python3"
  },
  "language_info": {
   "codemirror_mode": {
    "name": "ipython",
    "version": 3
   },
   "file_extension": ".py",
   "mimetype": "text/x-python",
   "name": "python",
   "nbconvert_exporter": "python",
   "pygments_lexer": "ipython3",
   "version": "3.8.8"
  }
 },
 "nbformat": 4,
 "nbformat_minor": 5
}
